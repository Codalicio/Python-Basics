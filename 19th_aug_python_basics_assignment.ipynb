{
 "cells": [
  {
   "cell_type": "code",
   "execution_count": 1,
   "metadata": {},
   "outputs": [
    {
     "name": "stdout",
     "output_type": "stream",
     "text": [
      "15\n",
      "10\n"
     ]
    }
   ],
   "source": [
    "# TOPIC : Python Basics Variable :\n",
    "\n",
    "'''\n",
    "1. Declare two variables, `x` and `y`, and assign them integer values.\n",
    "Swap the values of these variables without using any temporary variable.\n",
    "'''\n",
    "\n",
    "# Declaring two separate variables : (x and y) :\n",
    "x, y = 10, 15\n",
    "# Swapping the values of both the variable, without using any temporary variable :\n",
    "x, y = y, x\n",
    "print(x)\n",
    "print(y)"
   ]
  },
  {
   "cell_type": "code",
   "execution_count": 5,
   "metadata": {},
   "outputs": [
    {
     "name": "stdout",
     "output_type": "stream",
     "text": [
      "150 cm²\n"
     ]
    }
   ],
   "source": [
    "'''\n",
    "2. Create a program that calculates the area of a rectangle.\n",
    "Take the length and width as inputs from the user and store them in variables.\n",
    "Calculate and display the area.\n",
    "'''\n",
    "\n",
    "# Taking User Input :\n",
    "length = int(input(\"Enter the length of the rectangle : \"))\n",
    "width = int(input(\"Enter the width of the rectangle : \"))\n",
    "# Applying the formula to find the area of the rectangle :\n",
    "area_of_rect = (length * width)\n",
    "print(f\"{area_of_rect} cm²\")"
   ]
  },
  {
   "cell_type": "code",
   "execution_count": 7,
   "metadata": {},
   "outputs": [
    {
     "name": "stdout",
     "output_type": "stream",
     "text": [
      "The temperature -40.0 °C = -40.0 °F.\n"
     ]
    }
   ],
   "source": [
    "'''\n",
    "3. Write a Python program that converts temperatures from Celsius to Fahrenheit.\n",
    "Take the temperature in Celsius as input, store it in a variable,\n",
    "convert it to Fahrenheit, and display the result.\n",
    "'''\n",
    "\n",
    "# Taking user input : \"Temperature in Celsius\" :\n",
    "temp_in_c = float(input())\n",
    "# Applying the formula to convert Celsius to Fahrenheit :\n",
    "temp_in_f = (((9 / 5) * temp_in_c) + 32)\n",
    "\n",
    "print(f\"The temperature {temp_in_c} °C = {temp_in_f} °F.\")"
   ]
  },
  {
   "cell_type": "markdown",
   "metadata": {},
   "source": [
    "String Based Questions :"
   ]
  },
  {
   "cell_type": "code",
   "execution_count": 12,
   "metadata": {},
   "outputs": [
    {
     "name": "stdout",
     "output_type": "stream",
     "text": [
      "65\n",
      "65\n"
     ]
    }
   ],
   "source": [
    "'''\n",
    "1. Write a Python program that takes a string as input and prints the length of the string.\n",
    "'''\n",
    "\n",
    "# User Input : A string :\n",
    "string_1 = input(\"Enter a string : \")\n",
    "print(len(string_1))\n",
    "# Alternate approach :\n",
    "count = 0\n",
    "for i in string_1:\n",
    "    if i:\n",
    "        count += 1\n",
    "print(count)"
   ]
  },
  {
   "cell_type": "code",
   "execution_count": 8,
   "metadata": {},
   "outputs": [
    {
     "name": "stdout",
     "output_type": "stream",
     "text": [
      "7\n"
     ]
    }
   ],
   "source": [
    "'''\n",
    "2. Create a program that takes a sentence from the user and counts the number of vowels (a, e, i, o, u) in the string.\n",
    "'''\n",
    "\n",
    "# User Input : A string :\n",
    "string_2 = input(\"Enter a string\").lower()\n",
    "vowels_count = 0\n",
    "for i in string_2:\n",
    "    if i in ['a', 'e', 'i', 'o', 'u']:\n",
    "        vowels_count += 1\n",
    "print(vowels_count)"
   ]
  },
  {
   "cell_type": "code",
   "execution_count": 9,
   "metadata": {},
   "outputs": [
    {
     "name": "stdout",
     "output_type": "stream",
     "text": [
      "sllikSWP\n"
     ]
    }
   ],
   "source": [
    "'''\n",
    "3. Given a string, reverse the order of characters using string slicing and print the reversed string.\n",
    "'''\n",
    "\n",
    "# Given String :\n",
    "string_3 = \"PWSkills\"\n",
    "# Reversing the order of characters in the 'given string' :\n",
    "reverse = string_3[::-1] \n",
    "print(reverse)"
   ]
  },
  {
   "cell_type": "code",
   "execution_count": 19,
   "metadata": {},
   "outputs": [
    {
     "name": "stdout",
     "output_type": "stream",
     "text": [
      "The provided string is a Palindrome.\n"
     ]
    }
   ],
   "source": [
    "'''\n",
    "4. Write a program that takes a string as input and checks if it is a palindrome (reads the same forwards and backwards).\n",
    "'''\n",
    "\n",
    "# Taking user  input : As a string :\n",
    "string_4 = input(\"Enter a string : \")\n",
    "# To check whether it's Palindrome or not :\n",
    "reverse_string_4 = string_4[::-1]\n",
    "# Checking the string for being a Palindrome :\n",
    "if(string_4 == reverse_string_4) : \n",
    "    print(f\"The provided string is a Palindrome.\")\n",
    "else:\n",
    "    print(f\"The provided string is not a Palindrome.\")"
   ]
  },
  {
   "cell_type": "code",
   "execution_count": 24,
   "metadata": {},
   "outputs": [
    {
     "name": "stdout",
     "output_type": "stream",
     "text": [
      "sonu\n",
      "sonu\n"
     ]
    }
   ],
   "source": [
    "'''\n",
    "5. Create a program that takes a string as input and removes all the spaces from it.\n",
    "Print the modified string without spaces.\n",
    "'''\n",
    "\n",
    "# Take user input : As a string :\n",
    "string_5 = input(\"Enter a string : \")\n",
    "# Removing the extra trailing and leading spaces using in-built strip() method :\n",
    "string_5 = string_5.strip()\n",
    "print(string_5)\n",
    "\n",
    "# Alternate approach :\n",
    "string5 = string_5[0 : len(string_5) : 1]\n",
    "print(string_5)"
   ]
  }
 ],
 "metadata": {
  "kernelspec": {
   "display_name": "Python 3",
   "language": "python",
   "name": "python3"
  },
  "language_info": {
   "codemirror_mode": {
    "name": "ipython",
    "version": 3
   },
   "file_extension": ".py",
   "mimetype": "text/x-python",
   "name": "python",
   "nbconvert_exporter": "python",
   "pygments_lexer": "ipython3",
   "version": "3.12.4"
  }
 },
 "nbformat": 4,
 "nbformat_minor": 2
}
